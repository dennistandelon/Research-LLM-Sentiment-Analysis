{
 "cells": [
  {
   "cell_type": "code",
   "execution_count": 1,
   "id": "d159e3e8",
   "metadata": {
    "execution": {
     "iopub.execute_input": "2025-07-22T07:52:52.227464Z",
     "iopub.status.busy": "2025-07-22T07:52:52.227265Z",
     "iopub.status.idle": "2025-07-22T07:54:35.647348Z",
     "shell.execute_reply": "2025-07-22T07:54:35.646594Z"
    },
    "papermill": {
     "duration": 103.42441,
     "end_time": "2025-07-22T07:54:35.648751",
     "exception": false,
     "start_time": "2025-07-22T07:52:52.224341",
     "status": "completed"
    },
    "tags": []
   },
   "outputs": [
    {
     "name": "stdout",
     "output_type": "stream",
     "text": [
      "\u001b[2K     \u001b[90m━━━━━━━━━━━━━━━━━━━━━━━━━━━━━━━━━━━━━━━━\u001b[0m \u001b[32m60.4/60.4 kB\u001b[0m \u001b[31m1.9 MB/s\u001b[0m eta \u001b[36m0:00:00\u001b[0m\r\n",
      "\u001b[2K     \u001b[90m━━━━━━━━━━━━━━━━━━━━━━━━━━━━━━━━━━━━━━━━\u001b[0m \u001b[32m46.3/46.3 kB\u001b[0m \u001b[31m2.0 MB/s\u001b[0m eta \u001b[36m0:00:00\u001b[0m\r\n",
      "\u001b[2K     \u001b[90m━━━━━━━━━━━━━━━━━━━━━━━━━━━━━━━━━━━━━━━\u001b[0m \u001b[32m111.0/111.0 kB\u001b[0m \u001b[31m4.4 MB/s\u001b[0m eta \u001b[36m0:00:00\u001b[0m\r\n",
      "\u001b[2K     \u001b[90m━━━━━━━━━━━━━━━━━━━━━━━━━━━━━━━━━━━━━━━\u001b[0m \u001b[32m154.7/154.7 kB\u001b[0m \u001b[31m9.7 MB/s\u001b[0m eta \u001b[36m0:00:00\u001b[0m\r\n",
      "\u001b[?25h  Preparing metadata (setup.py) ... \u001b[?25l\u001b[?25hdone\r\n",
      "\u001b[2K     \u001b[90m━━━━━━━━━━━━━━━━━━━━━━━━━━━━━━━━━━━━━━━━\u001b[0m \u001b[32m4.0/4.0 MB\u001b[0m \u001b[31m54.3 MB/s\u001b[0m eta \u001b[36m0:00:00\u001b[0m\r\n",
      "\u001b[?25h  Preparing metadata (setup.py) ... \u001b[?25l\u001b[?25hdone\r\n",
      "\u001b[2K     \u001b[90m━━━━━━━━━━━━━━━━━━━━━━━━━━━━━━━━━━━━━━━━\u001b[0m \u001b[32m47.2/47.2 kB\u001b[0m \u001b[31m2.0 MB/s\u001b[0m eta \u001b[36m0:00:00\u001b[0m\r\n",
      "\u001b[2K     \u001b[90m━━━━━━━━━━━━━━━━━━━━━━━━━━━━━━━━━━━━━━━━\u001b[0m \u001b[32m50.1/50.1 kB\u001b[0m \u001b[31m2.4 MB/s\u001b[0m eta \u001b[36m0:00:00\u001b[0m\r\n",
      "\u001b[2K     \u001b[90m━━━━━━━━━━━━━━━━━━━━━━━━━━━━━━━━━━━━━━━━\u001b[0m \u001b[32m44.4/44.4 kB\u001b[0m \u001b[31m2.0 MB/s\u001b[0m eta \u001b[36m0:00:00\u001b[0m\r\n",
      "\u001b[2K   \u001b[90m━━━━━━━━━━━━━━━━━━━━━━━━━━━━━━━━━━━━━━━━\u001b[0m \u001b[32m177.5/177.5 kB\u001b[0m \u001b[31m9.1 MB/s\u001b[0m eta \u001b[36m0:00:00\u001b[0m\r\n",
      "\u001b[2K   \u001b[90m━━━━━━━━━━━━━━━━━━━━━━━━━━━━━━━━━━━━━━━━\u001b[0m \u001b[32m106.8/106.8 kB\u001b[0m \u001b[31m5.1 MB/s\u001b[0m eta \u001b[36m0:00:00\u001b[0m\r\n",
      "\u001b[2K   \u001b[90m━━━━━━━━━━━━━━━━━━━━━━━━━━━━━━━━━━━━━━━━\u001b[0m \u001b[32m21.8/21.8 MB\u001b[0m \u001b[31m81.5 MB/s\u001b[0m eta \u001b[36m0:00:00\u001b[0m\r\n",
      "\u001b[2K   \u001b[90m━━━━━━━━━━━━━━━━━━━━━━━━━━━━━━━━━━━━━━━━\u001b[0m \u001b[32m3.5/3.5 MB\u001b[0m \u001b[31m74.1 MB/s\u001b[0m eta \u001b[36m0:00:00\u001b[0m\r\n",
      "\u001b[2K   \u001b[90m━━━━━━━━━━━━━━━━━━━━━━━━━━━━━━━━━━━━━━━━\u001b[0m \u001b[32m355.1/355.1 kB\u001b[0m \u001b[31m19.8 MB/s\u001b[0m eta \u001b[36m0:00:00\u001b[0m\r\n",
      "\u001b[2K   \u001b[90m━━━━━━━━━━━━━━━━━━━━━━━━━━━━━━━━━━━━━━━━\u001b[0m \u001b[32m279.8/279.8 kB\u001b[0m \u001b[31m12.9 MB/s\u001b[0m eta \u001b[36m0:00:00\u001b[0m\r\n",
      "\u001b[2K   \u001b[90m━━━━━━━━━━━━━━━━━━━━━━━━━━━━━━━━━━━━━━━━\u001b[0m \u001b[32m16.5/16.5 MB\u001b[0m \u001b[31m87.6 MB/s\u001b[0m eta \u001b[36m0:00:00\u001b[0m\r\n",
      "\u001b[2K   \u001b[90m━━━━━━━━━━━━━━━━━━━━━━━━━━━━━━━━━━━━━━━━\u001b[0m \u001b[32m302.2/302.2 kB\u001b[0m \u001b[31m17.9 MB/s\u001b[0m eta \u001b[36m0:00:00\u001b[0m\r\n",
      "\u001b[2K   \u001b[90m━━━━━━━━━━━━━━━━━━━━━━━━━━━━━━━━━━━━━━━━\u001b[0m \u001b[32m51.5/51.5 kB\u001b[0m \u001b[31m2.6 MB/s\u001b[0m eta \u001b[36m0:00:00\u001b[0m\r\n",
      "\u001b[2K   \u001b[90m━━━━━━━━━━━━━━━━━━━━━━━━━━━━━━━━━━━━━━━━\u001b[0m \u001b[32m92.2/92.2 kB\u001b[0m \u001b[31m4.6 MB/s\u001b[0m eta \u001b[36m0:00:00\u001b[0m\r\n",
      "\u001b[2K   \u001b[90m━━━━━━━━━━━━━━━━━━━━━━━━━━━━━━━━━━━━━━━━\u001b[0m \u001b[32m24.7/24.7 MB\u001b[0m \u001b[31m75.5 MB/s\u001b[0m eta \u001b[36m0:00:00\u001b[0m\r\n",
      "\u001b[2K   \u001b[90m━━━━━━━━━━━━━━━━━━━━━━━━━━━━━━━━━━━━━━━━\u001b[0m \u001b[32m1.9/1.9 MB\u001b[0m \u001b[31m51.1 MB/s\u001b[0m eta \u001b[36m0:00:00\u001b[0m\r\n",
      "\u001b[2K   \u001b[90m━━━━━━━━━━━━━━━━━━━━━━━━━━━━━━━━━━━━━━━━\u001b[0m \u001b[32m96.1/96.1 kB\u001b[0m \u001b[31m6.1 MB/s\u001b[0m eta \u001b[36m0:00:00\u001b[0m\r\n",
      "\u001b[2K   \u001b[90m━━━━━━━━━━━━━━━━━━━━━━━━━━━━━━━━━━━━━━━━\u001b[0m \u001b[32m3.3/3.3 MB\u001b[0m \u001b[31m51.1 MB/s\u001b[0m eta \u001b[36m0:00:00\u001b[0m\r\n",
      "\u001b[2K   \u001b[90m━━━━━━━━━━━━━━━━━━━━━━━━━━━━━━━━━━━━━━━━\u001b[0m \u001b[32m12.2/12.2 MB\u001b[0m \u001b[31m106.2 MB/s\u001b[0m eta \u001b[36m0:00:00\u001b[0m\r\n",
      "\u001b[2K   \u001b[90m━━━━━━━━━━━━━━━━━━━━━━━━━━━━━━━━━━━━━━━━\u001b[0m \u001b[32m80.7/80.7 kB\u001b[0m \u001b[31m4.1 MB/s\u001b[0m eta \u001b[36m0:00:00\u001b[0m\r\n",
      "\u001b[2K   \u001b[90m━━━━━━━━━━━━━━━━━━━━━━━━━━━━━━━━━━━━━━━━\u001b[0m \u001b[32m2.2/2.2 MB\u001b[0m \u001b[31m59.3 MB/s\u001b[0m eta \u001b[36m0:00:00\u001b[0m\r\n",
      "\u001b[2K   \u001b[90m━━━━━━━━━━━━━━━━━━━━━━━━━━━━━━━━━━━━━━━━\u001b[0m \u001b[32m200.6/200.6 kB\u001b[0m \u001b[31m8.8 MB/s\u001b[0m eta \u001b[36m0:00:00\u001b[0m\r\n",
      "\u001b[2K   \u001b[90m━━━━━━━━━━━━━━━━━━━━━━━━━━━━━━━━━━━━━━━━\u001b[0m \u001b[32m325.3/325.3 kB\u001b[0m \u001b[31m16.6 MB/s\u001b[0m eta \u001b[36m0:00:00\u001b[0m\r\n",
      "\u001b[2K   \u001b[90m━━━━━━━━━━━━━━━━━━━━━━━━━━━━━━━━━━━━━━━━\u001b[0m \u001b[32m12.1/12.1 MB\u001b[0m \u001b[31m98.0 MB/s\u001b[0m eta \u001b[36m0:00:00\u001b[0m\r\n",
      "\u001b[2K   \u001b[90m━━━━━━━━━━━━━━━━━━━━━━━━━━━━━━━━━━━━━━━━\u001b[0m \u001b[32m36.4/36.4 MB\u001b[0m \u001b[31m49.8 MB/s\u001b[0m eta \u001b[36m0:00:00\u001b[0m\r\n",
      "\u001b[2K   \u001b[90m━━━━━━━━━━━━━━━━━━━━━━━━━━━━━━━━━━━━━━━━\u001b[0m \u001b[32m100.0/100.0 kB\u001b[0m \u001b[31m4.8 MB/s\u001b[0m eta \u001b[36m0:00:00\u001b[0m\r\n",
      "\u001b[2K   \u001b[90m━━━━━━━━━━━━━━━━━━━━━━━━━━━━━━━━━━━━━━━━\u001b[0m \u001b[32m44.0/44.0 kB\u001b[0m \u001b[31m1.9 MB/s\u001b[0m eta \u001b[36m0:00:00\u001b[0m\r\n",
      "\u001b[2K   \u001b[90m━━━━━━━━━━━━━━━━━━━━━━━━━━━━━━━━━━━━━━━━\u001b[0m \u001b[32m242.3/242.3 kB\u001b[0m \u001b[31m12.6 MB/s\u001b[0m eta \u001b[36m0:00:00\u001b[0m\r\n",
      "\u001b[2K   \u001b[90m━━━━━━━━━━━━━━━━━━━━━━━━━━━━━━━━━━━━━━━━\u001b[0m \u001b[32m98.9/98.9 kB\u001b[0m \u001b[31m4.3 MB/s\u001b[0m eta \u001b[36m0:00:00\u001b[0m\r\n",
      "\u001b[2K   \u001b[90m━━━━━━━━━━━━━━━━━━━━━━━━━━━━━━━━━━━━━━━━\u001b[0m \u001b[32m486.1/486.1 kB\u001b[0m \u001b[31m21.5 MB/s\u001b[0m eta \u001b[36m0:00:00\u001b[0m\r\n",
      "\u001b[2K   \u001b[90m━━━━━━━━━━━━━━━━━━━━━━━━━━━━━━━━━━━━━━━━\u001b[0m \u001b[32m51.3/51.3 kB\u001b[0m \u001b[31m2.4 MB/s\u001b[0m eta \u001b[36m0:00:00\u001b[0m\r\n",
      "\u001b[2K   \u001b[90m━━━━━━━━━━━━━━━━━━━━━━━━━━━━━━━━━━━━━━━━\u001b[0m \u001b[32m7.8/7.8 MB\u001b[0m \u001b[31m107.0 MB/s\u001b[0m eta \u001b[36m0:00:00\u001b[0m\r\n",
      "\u001b[2K   \u001b[90m━━━━━━━━━━━━━━━━━━━━━━━━━━━━━━━━━━━━━━━━\u001b[0m \u001b[32m229.3/229.3 kB\u001b[0m \u001b[31m14.2 MB/s\u001b[0m eta \u001b[36m0:00:00\u001b[0m\r\n",
      "\u001b[2K   \u001b[90m━━━━━━━━━━━━━━━━━━━━━━━━━━━━━━━━━━━━━━━━\u001b[0m \u001b[32m91.8/91.8 kB\u001b[0m \u001b[31m5.5 MB/s\u001b[0m eta \u001b[36m0:00:00\u001b[0m\r\n",
      "\u001b[2K   \u001b[90m━━━━━━━━━━━━━━━━━━━━━━━━━━━━━━━━━━━━━━━━\u001b[0m \u001b[32m236.5/236.5 kB\u001b[0m \u001b[31m14.1 MB/s\u001b[0m eta \u001b[36m0:00:00\u001b[0m\r\n",
      "\u001b[2K   \u001b[90m━━━━━━━━━━━━━━━━━━━━━━━━━━━━━━━━━━━━━━━━\u001b[0m \u001b[32m114.9/114.9 kB\u001b[0m \u001b[31m6.0 MB/s\u001b[0m eta \u001b[36m0:00:00\u001b[0m\r\n",
      "\u001b[2K   \u001b[90m━━━━━━━━━━━━━━━━━━━━━━━━━━━━━━━━━━━━━━━━\u001b[0m \u001b[32m85.0/85.0 kB\u001b[0m \u001b[31m4.8 MB/s\u001b[0m eta \u001b[36m0:00:00\u001b[0m\r\n",
      "\u001b[2K   \u001b[90m━━━━━━━━━━━━━━━━━━━━━━━━━━━━━━━━━━━━━━━━\u001b[0m \u001b[32m573.2/573.2 kB\u001b[0m \u001b[31m27.9 MB/s\u001b[0m eta \u001b[36m0:00:00\u001b[0m\r\n",
      "\u001b[2K   \u001b[90m━━━━━━━━━━━━━━━━━━━━━━━━━━━━━━━━━━━━━━━━\u001b[0m \u001b[32m169.2/169.2 kB\u001b[0m \u001b[31m10.0 MB/s\u001b[0m eta \u001b[36m0:00:00\u001b[0m\r\n",
      "\u001b[2K   \u001b[90m━━━━━━━━━━━━━━━━━━━━━━━━━━━━━━━━━━━━━━━━\u001b[0m \u001b[32m130.1/130.1 kB\u001b[0m \u001b[31m6.9 MB/s\u001b[0m eta \u001b[36m0:00:00\u001b[0m\r\n",
      "\u001b[2K   \u001b[90m━━━━━━━━━━━━━━━━━━━━━━━━━━━━━━━━━━━━━━━━\u001b[0m \u001b[32m983.2/983.2 kB\u001b[0m \u001b[31m45.4 MB/s\u001b[0m eta \u001b[36m0:00:00\u001b[0m\r\n",
      "\u001b[2K   \u001b[90m━━━━━━━━━━━━━━━━━━━━━━━━━━━━━━━━━━━━━━━━\u001b[0m \u001b[32m62.3/62.3 kB\u001b[0m \u001b[31m3.4 MB/s\u001b[0m eta \u001b[36m0:00:00\u001b[0m\r\n",
      "\u001b[2K   \u001b[90m━━━━━━━━━━━━━━━━━━━━━━━━━━━━━━━━━━━━━━━━\u001b[0m \u001b[32m1.3/1.3 MB\u001b[0m \u001b[31m54.8 MB/s\u001b[0m eta \u001b[36m0:00:00\u001b[0m\r\n",
      "\u001b[2K   \u001b[90m━━━━━━━━━━━━━━━━━━━━━━━━━━━━━━━━━━━━━━━━\u001b[0m \u001b[32m144.2/144.2 kB\u001b[0m \u001b[31m8.5 MB/s\u001b[0m eta \u001b[36m0:00:00\u001b[0m\r\n",
      "\u001b[2K   \u001b[90m━━━━━━━━━━━━━━━━━━━━━━━━━━━━━━━━━━━━━━━━\u001b[0m \u001b[32m56.2/56.2 kB\u001b[0m \u001b[31m3.1 MB/s\u001b[0m eta \u001b[36m0:00:00\u001b[0m\r\n",
      "\u001b[2K   \u001b[90m━━━━━━━━━━━━━━━━━━━━━━━━━━━━━━━━━━━━━━━━\u001b[0m \u001b[32m144.2/144.2 kB\u001b[0m \u001b[31m8.0 MB/s\u001b[0m eta \u001b[36m0:00:00\u001b[0m\r\n",
      "\u001b[2K   \u001b[90m━━━━━━━━━━━━━━━━━━━━━━━━━━━━━━━━━━━━━━━━\u001b[0m \u001b[32m6.7/6.7 MB\u001b[0m \u001b[31m93.1 MB/s\u001b[0m eta \u001b[36m0:00:00\u001b[0m\r\n",
      "\u001b[2K   \u001b[90m━━━━━━━━━━━━━━━━━━━━━━━━━━━━━━━━━━━━━━━━\u001b[0m \u001b[32m676.2/676.2 kB\u001b[0m \u001b[31m36.0 MB/s\u001b[0m eta \u001b[36m0:00:00\u001b[0m\r\n",
      "\u001b[2K   \u001b[90m━━━━━━━━━━━━━━━━━━━━━━━━━━━━━━━━━━━━━━━━\u001b[0m \u001b[32m2.1/2.1 MB\u001b[0m \u001b[31m66.9 MB/s\u001b[0m eta \u001b[36m0:00:00\u001b[0m\r\n",
      "\u001b[2K   \u001b[90m━━━━━━━━━━━━━━━━━━━━━━━━━━━━━━━━━━━━━━━━\u001b[0m \u001b[32m203.4/203.4 kB\u001b[0m \u001b[31m11.6 MB/s\u001b[0m eta \u001b[36m0:00:00\u001b[0m\r\n",
      "\u001b[2K   \u001b[90m━━━━━━━━━━━━━━━━━━━━━━━━━━━━━━━━━━━━━━━━\u001b[0m \u001b[32m459.8/459.8 kB\u001b[0m \u001b[31m19.8 MB/s\u001b[0m eta \u001b[36m0:00:00\u001b[0m\r\n",
      "\u001b[2K   \u001b[90m━━━━━━━━━━━━━━━━━━━━━━━━━━━━━━━━━━━━━━━━\u001b[0m \u001b[32m210.7/210.7 kB\u001b[0m \u001b[31m10.9 MB/s\u001b[0m eta \u001b[36m0:00:00\u001b[0m\r\n",
      "\u001b[2K   \u001b[90m━━━━━━━━━━━━━━━━━━━━━━━━━━━━━━━━━━━━━━━━\u001b[0m \u001b[32m65.6/65.6 kB\u001b[0m \u001b[31m3.0 MB/s\u001b[0m eta \u001b[36m0:00:00\u001b[0m\r\n",
      "\u001b[2K   \u001b[90m━━━━━━━━━━━━━━━━━━━━━━━━━━━━━━━━━━━━━━━━\u001b[0m \u001b[32m119.4/119.4 kB\u001b[0m \u001b[31m6.9 MB/s\u001b[0m eta \u001b[36m0:00:00\u001b[0m\r\n",
      "\u001b[2K   \u001b[90m━━━━━━━━━━━━━━━━━━━━━━━━━━━━━━━━━━━━━━━━\u001b[0m \u001b[32m201.6/201.6 kB\u001b[0m \u001b[31m7.9 MB/s\u001b[0m eta \u001b[36m0:00:00\u001b[0m\r\n",
      "\u001b[2K   \u001b[90m━━━━━━━━━━━━━━━━━━━━━━━━━━━━━━━━━━━━━━━━\u001b[0m \u001b[32m63.5/63.5 kB\u001b[0m \u001b[31m2.9 MB/s\u001b[0m eta \u001b[36m0:00:00\u001b[0m\r\n",
      "\u001b[2K   \u001b[90m━━━━━━━━━━━━━━━━━━━━━━━━━━━━━━━━━━━━━━━━\u001b[0m \u001b[32m778.9/778.9 kB\u001b[0m \u001b[31m29.6 MB/s\u001b[0m eta \u001b[36m0:00:00\u001b[0m\r\n",
      "\u001b[2K   \u001b[90m━━━━━━━━━━━━━━━━━━━━━━━━━━━━━━━━━━━━━━━━\u001b[0m \u001b[32m499.2/499.2 kB\u001b[0m \u001b[31m24.5 MB/s\u001b[0m eta \u001b[36m0:00:00\u001b[0m\r\n",
      "\u001b[2K   \u001b[90m━━━━━━━━━━━━━━━━━━━━━━━━━━━━━━━━━━━━━━━━\u001b[0m \u001b[32m4.0/4.0 MB\u001b[0m \u001b[31m78.3 MB/s\u001b[0m eta \u001b[36m0:00:00\u001b[0m\r\n",
      "\u001b[2K   \u001b[90m━━━━━━━━━━━━━━━━━━━━━━━━━━━━━━━━━━━━━━━━\u001b[0m \u001b[32m453.1/453.1 kB\u001b[0m \u001b[31m16.5 MB/s\u001b[0m eta \u001b[36m0:00:00\u001b[0m\r\n",
      "\u001b[2K   \u001b[90m━━━━━━━━━━━━━━━━━━━━━━━━━━━━━━━━━━━━━━━━\u001b[0m \u001b[32m152.5/152.5 kB\u001b[0m \u001b[31m7.9 MB/s\u001b[0m eta \u001b[36m0:00:00\u001b[0m\r\n",
      "\u001b[2K   \u001b[90m━━━━━━━━━━━━━━━━━━━━━━━━━━━━━━━━━━━━━━━━\u001b[0m \u001b[32m135.3/135.3 kB\u001b[0m \u001b[31m7.2 MB/s\u001b[0m eta \u001b[36m0:00:00\u001b[0m\r\n",
      "\u001b[2K   \u001b[90m━━━━━━━━━━━━━━━━━━━━━━━━━━━━━━━━━━━━━━━━\u001b[0m \u001b[32m1.9/1.9 MB\u001b[0m \u001b[31m51.8 MB/s\u001b[0m eta \u001b[36m0:00:00\u001b[0m\r\n",
      "\u001b[2K   \u001b[90m━━━━━━━━━━━━━━━━━━━━━━━━━━━━━━━━━━━━━━━━\u001b[0m \u001b[32m1.2/1.2 MB\u001b[0m \u001b[31m39.2 MB/s\u001b[0m eta \u001b[36m0:00:00\u001b[0m\r\n",
      "\u001b[2K   \u001b[90m━━━━━━━━━━━━━━━━━━━━━━━━━━━━━━━━━━━━━━━━\u001b[0m \u001b[32m259.8/259.8 kB\u001b[0m \u001b[31m15.2 MB/s\u001b[0m eta \u001b[36m0:00:00\u001b[0m\r\n",
      "\u001b[?25h  Building wheel for fugue-sql-antlr (setup.py) ... \u001b[?25l\u001b[?25hdone\r\n",
      "  Building wheel for dash-cytoscape (setup.py) ... \u001b[?25l\u001b[?25hdone\r\n",
      "\u001b[31mERROR: pip's dependency resolver does not currently take into account all the packages that are installed. This behaviour is the source of the following dependency conflicts.\r\n",
      "bigframes 2.8.0 requires google-cloud-bigquery-storage<3.0.0,>=2.30.0, which is not installed.\r\n",
      "datasets 3.6.0 requires fsspec[http]<=2025.3.0,>=2023.1.0, but you have fsspec 2025.5.1 which is incompatible.\r\n",
      "preprocessing 0.1.13 requires nltk==3.2.4, but you have nltk 3.9.1 which is incompatible.\r\n",
      "cesium 0.12.4 requires numpy<3.0,>=2.0, but you have numpy 1.26.4 which is incompatible.\r\n",
      "google-colab 1.0.0 requires google-auth==2.38.0, but you have google-auth 2.40.3 which is incompatible.\r\n",
      "google-colab 1.0.0 requires notebook==6.5.7, but you have notebook 6.5.4 which is incompatible.\r\n",
      "google-colab 1.0.0 requires pandas==2.2.2, but you have pandas 2.1.4 which is incompatible.\r\n",
      "google-colab 1.0.0 requires requests==2.32.3, but you have requests 2.32.4 which is incompatible.\r\n",
      "google-colab 1.0.0 requires tornado==6.4.2, but you have tornado 6.5.1 which is incompatible.\r\n",
      "tsfresh 0.21.0 requires scipy>=1.14.0; python_version >= \"3.10\", but you have scipy 1.11.4 which is incompatible.\r\n",
      "dopamine-rl 4.1.2 requires gymnasium>=1.0.0, but you have gymnasium 0.29.0 which is incompatible.\r\n",
      "pandas-gbq 0.29.1 requires google-api-core<3.0.0,>=2.10.2, but you have google-api-core 1.34.1 which is incompatible.\r\n",
      "thinc 8.3.6 requires numpy<3.0.0,>=2.0.0, but you have numpy 1.26.4 which is incompatible.\r\n",
      "omegaconf 2.3.0 requires antlr4-python3-runtime==4.9.*, but you have antlr4-python3-runtime 4.11.1 which is incompatible.\r\n",
      "gcsfs 2025.3.2 requires fsspec==2025.3.2, but you have fsspec 2025.5.1 which is incompatible.\r\n",
      "langchain-core 0.3.66 requires packaging<25,>=23.2, but you have packaging 25.0 which is incompatible.\r\n",
      "google-cloud-storage 2.19.0 requires google-api-core<3.0.0dev,>=2.15.0, but you have google-api-core 1.34.1 which is incompatible.\r\n",
      "mizani 0.13.5 requires pandas>=2.2.0, but you have pandas 2.1.4 which is incompatible.\r\n",
      "plotnine 0.14.5 requires matplotlib>=3.8.0, but you have matplotlib 3.7.2 which is incompatible.\r\n",
      "plotnine 0.14.5 requires pandas>=2.2.0, but you have pandas 2.1.4 which is incompatible.\r\n",
      "dataproc-spark-connect 0.7.5 requires google-api-core>=2.19, but you have google-api-core 1.34.1 which is incompatible.\r\n",
      "bigframes 2.8.0 requires google-cloud-bigquery[bqstorage,pandas]>=3.31.0, but you have google-cloud-bigquery 3.25.0 which is incompatible.\r\n",
      "bigframes 2.8.0 requires rich<14,>=12.4.4, but you have rich 14.0.0 which is incompatible.\r\n",
      "jupyter-kernel-gateway 2.5.2 requires jupyter-client<8.0,>=5.2.0, but you have jupyter-client 8.6.3 which is incompatible.\u001b[0m\u001b[31m\r\n",
      "\u001b[0m"
     ]
    }
   ],
   "source": [
    "!pip install -q pycaret[full]"
   ]
  },
  {
   "cell_type": "code",
   "execution_count": 2,
   "id": "528f2244",
   "metadata": {
    "_cell_guid": "b1076dfc-b9ad-4769-8c92-a6c4dae69d19",
    "_uuid": "8f2839f25d086af736a60e9eeb907d3b93b6e0e5",
    "execution": {
     "iopub.execute_input": "2025-07-22T07:54:35.662455Z",
     "iopub.status.busy": "2025-07-22T07:54:35.661746Z",
     "iopub.status.idle": "2025-07-22T07:54:56.438660Z",
     "shell.execute_reply": "2025-07-22T07:54:56.437889Z"
    },
    "papermill": {
     "duration": 20.784811,
     "end_time": "2025-07-22T07:54:56.440010",
     "exception": false,
     "start_time": "2025-07-22T07:54:35.655199",
     "status": "completed"
    },
    "tags": []
   },
   "outputs": [],
   "source": [
    "import pandas as pd\n",
    "from pycaret.classification import *\n",
    "from sklearn.metrics import classification_report"
   ]
  },
  {
   "cell_type": "code",
   "execution_count": 3,
   "id": "6bfe2fce",
   "metadata": {
    "execution": {
     "iopub.execute_input": "2025-07-22T07:54:56.453007Z",
     "iopub.status.busy": "2025-07-22T07:54:56.452786Z",
     "iopub.status.idle": "2025-07-22T07:54:56.554637Z",
     "shell.execute_reply": "2025-07-22T07:54:56.553844Z"
    },
    "papermill": {
     "duration": 0.109514,
     "end_time": "2025-07-22T07:54:56.555885",
     "exception": false,
     "start_time": "2025-07-22T07:54:56.446371",
     "status": "completed"
    },
    "tags": []
   },
   "outputs": [],
   "source": [
    "train_data = pd.read_csv('/kaggle/input/paper-kelulusan-eda/train_data.csv')\n",
    "test_data = pd.read_csv('/kaggle/input/paper-kelulusan-eda/test_data.csv')"
   ]
  },
  {
   "cell_type": "code",
   "execution_count": 4,
   "id": "222881f7",
   "metadata": {
    "execution": {
     "iopub.execute_input": "2025-07-22T07:54:56.569157Z",
     "iopub.status.busy": "2025-07-22T07:54:56.568546Z",
     "iopub.status.idle": "2025-07-22T07:54:56.573826Z",
     "shell.execute_reply": "2025-07-22T07:54:56.572962Z"
    },
    "papermill": {
     "duration": 0.012825,
     "end_time": "2025-07-22T07:54:56.575016",
     "exception": false,
     "start_time": "2025-07-22T07:54:56.562191",
     "status": "completed"
    },
    "tags": []
   },
   "outputs": [
    {
     "name": "stdout",
     "output_type": "stream",
     "text": [
      "sentiment\n",
      "negative    500\n",
      "positive    500\n",
      "Name: count, dtype: int64\n"
     ]
    }
   ],
   "source": [
    "print(test_data['sentiment'].value_counts())"
   ]
  },
  {
   "cell_type": "code",
   "execution_count": 5,
   "id": "798d8a91",
   "metadata": {
    "execution": {
     "iopub.execute_input": "2025-07-22T07:54:56.589526Z",
     "iopub.status.busy": "2025-07-22T07:54:56.589340Z",
     "iopub.status.idle": "2025-07-22T07:55:54.239809Z",
     "shell.execute_reply": "2025-07-22T07:55:54.239002Z"
    },
    "papermill": {
     "duration": 57.658512,
     "end_time": "2025-07-22T07:55:54.241256",
     "exception": false,
     "start_time": "2025-07-22T07:54:56.582744",
     "status": "completed"
    },
    "tags": []
   },
   "outputs": [],
   "source": [
    "# Pycaret setup for training data\n",
    "clf = setup(\n",
    "    data=train_data,\n",
    "    target='sentiment',\n",
    "    text_features=['clean_text'],\n",
    "    session_id=42,\n",
    "    verbose=False\n",
    ")"
   ]
  },
  {
   "cell_type": "code",
   "execution_count": 6,
   "id": "09a2de88",
   "metadata": {
    "execution": {
     "iopub.execute_input": "2025-07-22T07:55:54.255531Z",
     "iopub.status.busy": "2025-07-22T07:55:54.254596Z",
     "iopub.status.idle": "2025-07-22T10:06:23.732480Z",
     "shell.execute_reply": "2025-07-22T10:06:23.731634Z"
    },
    "papermill": {
     "duration": 7829.486226,
     "end_time": "2025-07-22T10:06:23.733942",
     "exception": false,
     "start_time": "2025-07-22T07:55:54.247716",
     "status": "completed"
    },
    "tags": []
   },
   "outputs": [
    {
     "data": {
      "text/html": [],
      "text/plain": [
       "<IPython.core.display.HTML object>"
      ]
     },
     "metadata": {},
     "output_type": "display_data"
    },
    {
     "data": {
      "text/html": [
       "<style type=\"text/css\">\n",
       "#T_4e413 th {\n",
       "  text-align: left;\n",
       "}\n",
       "#T_4e413_row0_col0, #T_4e413_row0_col2, #T_4e413_row1_col0, #T_4e413_row1_col1, #T_4e413_row1_col2, #T_4e413_row1_col3, #T_4e413_row1_col4, #T_4e413_row1_col5, #T_4e413_row1_col6, #T_4e413_row1_col7, #T_4e413_row2_col0, #T_4e413_row2_col1, #T_4e413_row2_col3, #T_4e413_row2_col4, #T_4e413_row2_col5, #T_4e413_row2_col6, #T_4e413_row2_col7, #T_4e413_row3_col0, #T_4e413_row3_col1, #T_4e413_row3_col2, #T_4e413_row3_col3, #T_4e413_row3_col4, #T_4e413_row3_col5, #T_4e413_row3_col6, #T_4e413_row3_col7, #T_4e413_row4_col0, #T_4e413_row4_col1, #T_4e413_row4_col2, #T_4e413_row4_col3, #T_4e413_row4_col4, #T_4e413_row4_col5, #T_4e413_row4_col6, #T_4e413_row4_col7, #T_4e413_row5_col0, #T_4e413_row5_col1, #T_4e413_row5_col2, #T_4e413_row5_col3, #T_4e413_row5_col4, #T_4e413_row5_col5, #T_4e413_row5_col6, #T_4e413_row5_col7, #T_4e413_row6_col0, #T_4e413_row6_col1, #T_4e413_row6_col2, #T_4e413_row6_col3, #T_4e413_row6_col4, #T_4e413_row6_col5, #T_4e413_row6_col6, #T_4e413_row6_col7, #T_4e413_row7_col0, #T_4e413_row7_col1, #T_4e413_row7_col2, #T_4e413_row7_col3, #T_4e413_row7_col4, #T_4e413_row7_col5, #T_4e413_row7_col6, #T_4e413_row7_col7, #T_4e413_row8_col0, #T_4e413_row8_col1, #T_4e413_row8_col2, #T_4e413_row8_col3, #T_4e413_row8_col4, #T_4e413_row8_col5, #T_4e413_row8_col6, #T_4e413_row8_col7, #T_4e413_row9_col0, #T_4e413_row9_col1, #T_4e413_row9_col2, #T_4e413_row9_col3, #T_4e413_row9_col4, #T_4e413_row9_col5, #T_4e413_row9_col6, #T_4e413_row9_col7, #T_4e413_row10_col0, #T_4e413_row10_col1, #T_4e413_row10_col2, #T_4e413_row10_col3, #T_4e413_row10_col4, #T_4e413_row10_col5, #T_4e413_row10_col6, #T_4e413_row10_col7 {\n",
       "  text-align: left;\n",
       "}\n",
       "#T_4e413_row0_col1, #T_4e413_row0_col3, #T_4e413_row0_col4, #T_4e413_row0_col5, #T_4e413_row0_col6, #T_4e413_row0_col7, #T_4e413_row2_col2 {\n",
       "  text-align: left;\n",
       "  background-color: yellow;\n",
       "}\n",
       "#T_4e413_row0_col8, #T_4e413_row1_col8, #T_4e413_row2_col8, #T_4e413_row3_col8, #T_4e413_row4_col8, #T_4e413_row5_col8, #T_4e413_row6_col8, #T_4e413_row7_col8, #T_4e413_row8_col8, #T_4e413_row10_col8 {\n",
       "  text-align: left;\n",
       "  background-color: lightgrey;\n",
       "}\n",
       "#T_4e413_row9_col8 {\n",
       "  text-align: left;\n",
       "  background-color: yellow;\n",
       "  background-color: lightgrey;\n",
       "}\n",
       "</style>\n",
       "<table id=\"T_4e413\">\n",
       "  <thead>\n",
       "    <tr>\n",
       "      <th class=\"blank level0\" >&nbsp;</th>\n",
       "      <th id=\"T_4e413_level0_col0\" class=\"col_heading level0 col0\" >Model</th>\n",
       "      <th id=\"T_4e413_level0_col1\" class=\"col_heading level0 col1\" >Accuracy</th>\n",
       "      <th id=\"T_4e413_level0_col2\" class=\"col_heading level0 col2\" >AUC</th>\n",
       "      <th id=\"T_4e413_level0_col3\" class=\"col_heading level0 col3\" >Recall</th>\n",
       "      <th id=\"T_4e413_level0_col4\" class=\"col_heading level0 col4\" >Prec.</th>\n",
       "      <th id=\"T_4e413_level0_col5\" class=\"col_heading level0 col5\" >F1</th>\n",
       "      <th id=\"T_4e413_level0_col6\" class=\"col_heading level0 col6\" >Kappa</th>\n",
       "      <th id=\"T_4e413_level0_col7\" class=\"col_heading level0 col7\" >MCC</th>\n",
       "      <th id=\"T_4e413_level0_col8\" class=\"col_heading level0 col8\" >TT (Sec)</th>\n",
       "    </tr>\n",
       "  </thead>\n",
       "  <tbody>\n",
       "    <tr>\n",
       "      <th id=\"T_4e413_level0_row0\" class=\"row_heading level0 row0\" >lightgbm</th>\n",
       "      <td id=\"T_4e413_row0_col0\" class=\"data row0 col0\" >Light Gradient Boosting Machine</td>\n",
       "      <td id=\"T_4e413_row0_col1\" class=\"data row0 col1\" >0.9446</td>\n",
       "      <td id=\"T_4e413_row0_col2\" class=\"data row0 col2\" >0.8632</td>\n",
       "      <td id=\"T_4e413_row0_col3\" class=\"data row0 col3\" >0.9446</td>\n",
       "      <td id=\"T_4e413_row0_col4\" class=\"data row0 col4\" >0.9319</td>\n",
       "      <td id=\"T_4e413_row0_col5\" class=\"data row0 col5\" >0.9315</td>\n",
       "      <td id=\"T_4e413_row0_col6\" class=\"data row0 col6\" >0.3034</td>\n",
       "      <td id=\"T_4e413_row0_col7\" class=\"data row0 col7\" >0.3513</td>\n",
       "      <td id=\"T_4e413_row0_col8\" class=\"data row0 col8\" >57.1800</td>\n",
       "    </tr>\n",
       "    <tr>\n",
       "      <th id=\"T_4e413_level0_row1\" class=\"row_heading level0 row1\" >catboost</th>\n",
       "      <td id=\"T_4e413_row1_col0\" class=\"data row1 col0\" >CatBoost Classifier</td>\n",
       "      <td id=\"T_4e413_row1_col1\" class=\"data row1 col1\" >0.9437</td>\n",
       "      <td id=\"T_4e413_row1_col2\" class=\"data row1 col2\" >0.8555</td>\n",
       "      <td id=\"T_4e413_row1_col3\" class=\"data row1 col3\" >0.9437</td>\n",
       "      <td id=\"T_4e413_row1_col4\" class=\"data row1 col4\" >0.9311</td>\n",
       "      <td id=\"T_4e413_row1_col5\" class=\"data row1 col5\" >0.9265</td>\n",
       "      <td id=\"T_4e413_row1_col6\" class=\"data row1 col6\" >0.2313</td>\n",
       "      <td id=\"T_4e413_row1_col7\" class=\"data row1 col7\" >0.3038</td>\n",
       "      <td id=\"T_4e413_row1_col8\" class=\"data row1 col8\" >81.3570</td>\n",
       "    </tr>\n",
       "    <tr>\n",
       "      <th id=\"T_4e413_level0_row2\" class=\"row_heading level0 row2\" >lr</th>\n",
       "      <td id=\"T_4e413_row2_col0\" class=\"data row2 col0\" >Logistic Regression</td>\n",
       "      <td id=\"T_4e413_row2_col1\" class=\"data row2 col1\" >0.9435</td>\n",
       "      <td id=\"T_4e413_row2_col2\" class=\"data row2 col2\" >0.8670</td>\n",
       "      <td id=\"T_4e413_row2_col3\" class=\"data row2 col3\" >0.9435</td>\n",
       "      <td id=\"T_4e413_row2_col4\" class=\"data row2 col4\" >0.9310</td>\n",
       "      <td id=\"T_4e413_row2_col5\" class=\"data row2 col5\" >0.9251</td>\n",
       "      <td id=\"T_4e413_row2_col6\" class=\"data row2 col6\" >0.2117</td>\n",
       "      <td id=\"T_4e413_row2_col7\" class=\"data row2 col7\" >0.2906</td>\n",
       "      <td id=\"T_4e413_row2_col8\" class=\"data row2 col8\" >123.6960</td>\n",
       "    </tr>\n",
       "    <tr>\n",
       "      <th id=\"T_4e413_level0_row3\" class=\"row_heading level0 row3\" >xgboost</th>\n",
       "      <td id=\"T_4e413_row3_col0\" class=\"data row3 col0\" >Extreme Gradient Boosting</td>\n",
       "      <td id=\"T_4e413_row3_col1\" class=\"data row3 col1\" >0.9434</td>\n",
       "      <td id=\"T_4e413_row3_col2\" class=\"data row3 col2\" >0.8585</td>\n",
       "      <td id=\"T_4e413_row3_col3\" class=\"data row3 col3\" >0.9434</td>\n",
       "      <td id=\"T_4e413_row3_col4\" class=\"data row3 col4\" >0.9298</td>\n",
       "      <td id=\"T_4e413_row3_col5\" class=\"data row3 col5\" >0.9301</td>\n",
       "      <td id=\"T_4e413_row3_col6\" class=\"data row3 col6\" >0.2896</td>\n",
       "      <td id=\"T_4e413_row3_col7\" class=\"data row3 col7\" >0.3355</td>\n",
       "      <td id=\"T_4e413_row3_col8\" class=\"data row3 col8\" >45.1180</td>\n",
       "    </tr>\n",
       "    <tr>\n",
       "      <th id=\"T_4e413_level0_row4\" class=\"row_heading level0 row4\" >gbc</th>\n",
       "      <td id=\"T_4e413_row4_col0\" class=\"data row4 col0\" >Gradient Boosting Classifier</td>\n",
       "      <td id=\"T_4e413_row4_col1\" class=\"data row4 col1\" >0.9422</td>\n",
       "      <td id=\"T_4e413_row4_col2\" class=\"data row4 col2\" >0.8306</td>\n",
       "      <td id=\"T_4e413_row4_col3\" class=\"data row4 col3\" >0.9422</td>\n",
       "      <td id=\"T_4e413_row4_col4\" class=\"data row4 col4\" >0.9280</td>\n",
       "      <td id=\"T_4e413_row4_col5\" class=\"data row4 col5\" >0.9220</td>\n",
       "      <td id=\"T_4e413_row4_col6\" class=\"data row4 col6\" >0.1720</td>\n",
       "      <td id=\"T_4e413_row4_col7\" class=\"data row4 col7\" >0.2527</td>\n",
       "      <td id=\"T_4e413_row4_col8\" class=\"data row4 col8\" >103.2260</td>\n",
       "    </tr>\n",
       "    <tr>\n",
       "      <th id=\"T_4e413_level0_row5\" class=\"row_heading level0 row5\" >rf</th>\n",
       "      <td id=\"T_4e413_row5_col0\" class=\"data row5 col0\" >Random Forest Classifier</td>\n",
       "      <td id=\"T_4e413_row5_col1\" class=\"data row5 col1\" >0.9403</td>\n",
       "      <td id=\"T_4e413_row5_col2\" class=\"data row5 col2\" >0.8412</td>\n",
       "      <td id=\"T_4e413_row5_col3\" class=\"data row5 col3\" >0.9403</td>\n",
       "      <td id=\"T_4e413_row5_col4\" class=\"data row5 col4\" >0.9268</td>\n",
       "      <td id=\"T_4e413_row5_col5\" class=\"data row5 col5\" >0.9148</td>\n",
       "      <td id=\"T_4e413_row5_col6\" class=\"data row5 col6\" >0.0754</td>\n",
       "      <td id=\"T_4e413_row5_col7\" class=\"data row5 col7\" >0.1639</td>\n",
       "      <td id=\"T_4e413_row5_col8\" class=\"data row5 col8\" >47.1870</td>\n",
       "    </tr>\n",
       "    <tr>\n",
       "      <th id=\"T_4e413_level0_row6\" class=\"row_heading level0 row6\" >ada</th>\n",
       "      <td id=\"T_4e413_row6_col0\" class=\"data row6 col0\" >Ada Boost Classifier</td>\n",
       "      <td id=\"T_4e413_row6_col1\" class=\"data row6 col1\" >0.9399</td>\n",
       "      <td id=\"T_4e413_row6_col2\" class=\"data row6 col2\" >0.8312</td>\n",
       "      <td id=\"T_4e413_row6_col3\" class=\"data row6 col3\" >0.9399</td>\n",
       "      <td id=\"T_4e413_row6_col4\" class=\"data row6 col4\" >0.9231</td>\n",
       "      <td id=\"T_4e413_row6_col5\" class=\"data row6 col5\" >0.9263</td>\n",
       "      <td id=\"T_4e413_row6_col6\" class=\"data row6 col6\" >0.2538</td>\n",
       "      <td id=\"T_4e413_row6_col7\" class=\"data row6 col7\" >0.2896</td>\n",
       "      <td id=\"T_4e413_row6_col8\" class=\"data row6 col8\" >45.3360</td>\n",
       "    </tr>\n",
       "    <tr>\n",
       "      <th id=\"T_4e413_level0_row7\" class=\"row_heading level0 row7\" >et</th>\n",
       "      <td id=\"T_4e413_row7_col0\" class=\"data row7 col0\" >Extra Trees Classifier</td>\n",
       "      <td id=\"T_4e413_row7_col1\" class=\"data row7 col1\" >0.9395</td>\n",
       "      <td id=\"T_4e413_row7_col2\" class=\"data row7 col2\" >0.8365</td>\n",
       "      <td id=\"T_4e413_row7_col3\" class=\"data row7 col3\" >0.9395</td>\n",
       "      <td id=\"T_4e413_row7_col4\" class=\"data row7 col4\" >0.9198</td>\n",
       "      <td id=\"T_4e413_row7_col5\" class=\"data row7 col5\" >0.9153</td>\n",
       "      <td id=\"T_4e413_row7_col6\" class=\"data row7 col6\" >0.0866</td>\n",
       "      <td id=\"T_4e413_row7_col7\" class=\"data row7 col7\" >0.1608</td>\n",
       "      <td id=\"T_4e413_row7_col8\" class=\"data row7 col8\" >101.4100</td>\n",
       "    </tr>\n",
       "    <tr>\n",
       "      <th id=\"T_4e413_level0_row8\" class=\"row_heading level0 row8\" >nb</th>\n",
       "      <td id=\"T_4e413_row8_col0\" class=\"data row8 col0\" >Naive Bayes</td>\n",
       "      <td id=\"T_4e413_row8_col1\" class=\"data row8 col1\" >0.9387</td>\n",
       "      <td id=\"T_4e413_row8_col2\" class=\"data row8 col2\" >0.7467</td>\n",
       "      <td id=\"T_4e413_row8_col3\" class=\"data row8 col3\" >0.9387</td>\n",
       "      <td id=\"T_4e413_row8_col4\" class=\"data row8 col4\" >0.8812</td>\n",
       "      <td id=\"T_4e413_row8_col5\" class=\"data row8 col5\" >0.9091</td>\n",
       "      <td id=\"T_4e413_row8_col6\" class=\"data row8 col6\" >0.0000</td>\n",
       "      <td id=\"T_4e413_row8_col7\" class=\"data row8 col7\" >0.0000</td>\n",
       "      <td id=\"T_4e413_row8_col8\" class=\"data row8 col8\" >10.7660</td>\n",
       "    </tr>\n",
       "    <tr>\n",
       "      <th id=\"T_4e413_level0_row9\" class=\"row_heading level0 row9\" >dummy</th>\n",
       "      <td id=\"T_4e413_row9_col0\" class=\"data row9 col0\" >Dummy Classifier</td>\n",
       "      <td id=\"T_4e413_row9_col1\" class=\"data row9 col1\" >0.9387</td>\n",
       "      <td id=\"T_4e413_row9_col2\" class=\"data row9 col2\" >0.5000</td>\n",
       "      <td id=\"T_4e413_row9_col3\" class=\"data row9 col3\" >0.9387</td>\n",
       "      <td id=\"T_4e413_row9_col4\" class=\"data row9 col4\" >0.8812</td>\n",
       "      <td id=\"T_4e413_row9_col5\" class=\"data row9 col5\" >0.9091</td>\n",
       "      <td id=\"T_4e413_row9_col6\" class=\"data row9 col6\" >0.0000</td>\n",
       "      <td id=\"T_4e413_row9_col7\" class=\"data row9 col7\" >0.0000</td>\n",
       "      <td id=\"T_4e413_row9_col8\" class=\"data row9 col8\" >6.0880</td>\n",
       "    </tr>\n",
       "    <tr>\n",
       "      <th id=\"T_4e413_level0_row10\" class=\"row_heading level0 row10\" >dt</th>\n",
       "      <td id=\"T_4e413_row10_col0\" class=\"data row10 col0\" >Decision Tree Classifier</td>\n",
       "      <td id=\"T_4e413_row10_col1\" class=\"data row10 col1\" >0.9200</td>\n",
       "      <td id=\"T_4e413_row10_col2\" class=\"data row10 col2\" >0.6180</td>\n",
       "      <td id=\"T_4e413_row10_col3\" class=\"data row10 col3\" >0.9200</td>\n",
       "      <td id=\"T_4e413_row10_col4\" class=\"data row10 col4\" >0.9145</td>\n",
       "      <td id=\"T_4e413_row10_col5\" class=\"data row10 col5\" >0.9171</td>\n",
       "      <td id=\"T_4e413_row10_col6\" class=\"data row10 col6\" >0.2537</td>\n",
       "      <td id=\"T_4e413_row10_col7\" class=\"data row10 col7\" >0.2549</td>\n",
       "      <td id=\"T_4e413_row10_col8\" class=\"data row10 col8\" >38.4050</td>\n",
       "    </tr>\n",
       "  </tbody>\n",
       "</table>\n"
      ],
      "text/plain": [
       "<pandas.io.formats.style.Styler at 0x7a7ee30298d0>"
      ]
     },
     "metadata": {},
     "output_type": "display_data"
    },
    {
     "data": {
      "text/html": [],
      "text/plain": [
       "<IPython.core.display.HTML object>"
      ]
     },
     "metadata": {},
     "output_type": "display_data"
    }
   ],
   "source": [
    "# Compare model and get best model\n",
    "best_models = compare_models(n_select=5)"
   ]
  },
  {
   "cell_type": "code",
   "execution_count": 7,
   "id": "fd075079",
   "metadata": {
    "execution": {
     "iopub.execute_input": "2025-07-22T10:06:23.749736Z",
     "iopub.status.busy": "2025-07-22T10:06:23.749534Z",
     "iopub.status.idle": "2025-07-22T10:06:31.411436Z",
     "shell.execute_reply": "2025-07-22T10:06:31.410645Z"
    },
    "papermill": {
     "duration": 7.671609,
     "end_time": "2025-07-22T10:06:31.412849",
     "exception": false,
     "start_time": "2025-07-22T10:06:23.741240",
     "status": "completed"
    },
    "tags": []
   },
   "outputs": [
    {
     "data": {
      "text/html": [
       "<style type=\"text/css\">\n",
       "</style>\n",
       "<table id=\"T_063c5\">\n",
       "  <thead>\n",
       "    <tr>\n",
       "      <th class=\"blank level0\" >&nbsp;</th>\n",
       "      <th id=\"T_063c5_level0_col0\" class=\"col_heading level0 col0\" >Model</th>\n",
       "      <th id=\"T_063c5_level0_col1\" class=\"col_heading level0 col1\" >Accuracy</th>\n",
       "      <th id=\"T_063c5_level0_col2\" class=\"col_heading level0 col2\" >AUC</th>\n",
       "      <th id=\"T_063c5_level0_col3\" class=\"col_heading level0 col3\" >Recall</th>\n",
       "      <th id=\"T_063c5_level0_col4\" class=\"col_heading level0 col4\" >Prec.</th>\n",
       "      <th id=\"T_063c5_level0_col5\" class=\"col_heading level0 col5\" >F1</th>\n",
       "      <th id=\"T_063c5_level0_col6\" class=\"col_heading level0 col6\" >Kappa</th>\n",
       "      <th id=\"T_063c5_level0_col7\" class=\"col_heading level0 col7\" >MCC</th>\n",
       "    </tr>\n",
       "  </thead>\n",
       "  <tbody>\n",
       "    <tr>\n",
       "      <th id=\"T_063c5_level0_row0\" class=\"row_heading level0 row0\" >0</th>\n",
       "      <td id=\"T_063c5_row0_col0\" class=\"data row0 col0\" >Light Gradient Boosting Machine</td>\n",
       "      <td id=\"T_063c5_row0_col1\" class=\"data row0 col1\" >0.5700</td>\n",
       "      <td id=\"T_063c5_row0_col2\" class=\"data row0 col2\" >0.8422</td>\n",
       "      <td id=\"T_063c5_row0_col3\" class=\"data row0 col3\" >0.5700</td>\n",
       "      <td id=\"T_063c5_row0_col4\" class=\"data row0 col4\" >0.7274</td>\n",
       "      <td id=\"T_063c5_row0_col5\" class=\"data row0 col5\" >0.4800</td>\n",
       "      <td id=\"T_063c5_row0_col6\" class=\"data row0 col6\" >0.1400</td>\n",
       "      <td id=\"T_063c5_row0_col7\" class=\"data row0 col7\" >0.2524</td>\n",
       "    </tr>\n",
       "  </tbody>\n",
       "</table>\n"
      ],
      "text/plain": [
       "<pandas.io.formats.style.Styler at 0x7a7ef44f4a10>"
      ]
     },
     "metadata": {},
     "output_type": "display_data"
    },
    {
     "data": {
      "text/html": [
       "<style type=\"text/css\">\n",
       "</style>\n",
       "<table id=\"T_11936\">\n",
       "  <thead>\n",
       "    <tr>\n",
       "      <th class=\"blank level0\" >&nbsp;</th>\n",
       "      <th id=\"T_11936_level0_col0\" class=\"col_heading level0 col0\" >Model</th>\n",
       "      <th id=\"T_11936_level0_col1\" class=\"col_heading level0 col1\" >Accuracy</th>\n",
       "      <th id=\"T_11936_level0_col2\" class=\"col_heading level0 col2\" >AUC</th>\n",
       "      <th id=\"T_11936_level0_col3\" class=\"col_heading level0 col3\" >Recall</th>\n",
       "      <th id=\"T_11936_level0_col4\" class=\"col_heading level0 col4\" >Prec.</th>\n",
       "      <th id=\"T_11936_level0_col5\" class=\"col_heading level0 col5\" >F1</th>\n",
       "      <th id=\"T_11936_level0_col6\" class=\"col_heading level0 col6\" >Kappa</th>\n",
       "      <th id=\"T_11936_level0_col7\" class=\"col_heading level0 col7\" >MCC</th>\n",
       "    </tr>\n",
       "  </thead>\n",
       "  <tbody>\n",
       "    <tr>\n",
       "      <th id=\"T_11936_level0_row0\" class=\"row_heading level0 row0\" >0</th>\n",
       "      <td id=\"T_11936_row0_col0\" class=\"data row0 col0\" >CatBoost Classifier</td>\n",
       "      <td id=\"T_11936_row0_col1\" class=\"data row0 col1\" >0.5670</td>\n",
       "      <td id=\"T_11936_row0_col2\" class=\"data row0 col2\" >0.8336</td>\n",
       "      <td id=\"T_11936_row0_col3\" class=\"data row0 col3\" >0.5670</td>\n",
       "      <td id=\"T_11936_row0_col4\" class=\"data row0 col4\" >0.7302</td>\n",
       "      <td id=\"T_11936_row0_col5\" class=\"data row0 col5\" >0.4737</td>\n",
       "      <td id=\"T_11936_row0_col6\" class=\"data row0 col6\" >0.1340</td>\n",
       "      <td id=\"T_11936_row0_col7\" class=\"data row0 col7\" >0.2484</td>\n",
       "    </tr>\n",
       "  </tbody>\n",
       "</table>\n"
      ],
      "text/plain": [
       "<pandas.io.formats.style.Styler at 0x7a7ee2e13110>"
      ]
     },
     "metadata": {},
     "output_type": "display_data"
    },
    {
     "data": {
      "text/html": [
       "<style type=\"text/css\">\n",
       "</style>\n",
       "<table id=\"T_513f1\">\n",
       "  <thead>\n",
       "    <tr>\n",
       "      <th class=\"blank level0\" >&nbsp;</th>\n",
       "      <th id=\"T_513f1_level0_col0\" class=\"col_heading level0 col0\" >Model</th>\n",
       "      <th id=\"T_513f1_level0_col1\" class=\"col_heading level0 col1\" >Accuracy</th>\n",
       "      <th id=\"T_513f1_level0_col2\" class=\"col_heading level0 col2\" >AUC</th>\n",
       "      <th id=\"T_513f1_level0_col3\" class=\"col_heading level0 col3\" >Recall</th>\n",
       "      <th id=\"T_513f1_level0_col4\" class=\"col_heading level0 col4\" >Prec.</th>\n",
       "      <th id=\"T_513f1_level0_col5\" class=\"col_heading level0 col5\" >F1</th>\n",
       "      <th id=\"T_513f1_level0_col6\" class=\"col_heading level0 col6\" >Kappa</th>\n",
       "      <th id=\"T_513f1_level0_col7\" class=\"col_heading level0 col7\" >MCC</th>\n",
       "    </tr>\n",
       "  </thead>\n",
       "  <tbody>\n",
       "    <tr>\n",
       "      <th id=\"T_513f1_level0_row0\" class=\"row_heading level0 row0\" >0</th>\n",
       "      <td id=\"T_513f1_row0_col0\" class=\"data row0 col0\" >Logistic Regression</td>\n",
       "      <td id=\"T_513f1_row0_col1\" class=\"data row0 col1\" >0.5780</td>\n",
       "      <td id=\"T_513f1_row0_col2\" class=\"data row0 col2\" >0.8611</td>\n",
       "      <td id=\"T_513f1_row0_col3\" class=\"data row0 col3\" >0.5780</td>\n",
       "      <td id=\"T_513f1_row0_col4\" class=\"data row0 col4\" >0.7430</td>\n",
       "      <td id=\"T_513f1_row0_col5\" class=\"data row0 col5\" >0.4917</td>\n",
       "      <td id=\"T_513f1_row0_col6\" class=\"data row0 col6\" >0.1560</td>\n",
       "      <td id=\"T_513f1_row0_col7\" class=\"data row0 col7\" >0.2753</td>\n",
       "    </tr>\n",
       "  </tbody>\n",
       "</table>\n"
      ],
      "text/plain": [
       "<pandas.io.formats.style.Styler at 0x7a7ee3270d50>"
      ]
     },
     "metadata": {},
     "output_type": "display_data"
    },
    {
     "data": {
      "text/html": [
       "<style type=\"text/css\">\n",
       "</style>\n",
       "<table id=\"T_d8485\">\n",
       "  <thead>\n",
       "    <tr>\n",
       "      <th class=\"blank level0\" >&nbsp;</th>\n",
       "      <th id=\"T_d8485_level0_col0\" class=\"col_heading level0 col0\" >Model</th>\n",
       "      <th id=\"T_d8485_level0_col1\" class=\"col_heading level0 col1\" >Accuracy</th>\n",
       "      <th id=\"T_d8485_level0_col2\" class=\"col_heading level0 col2\" >AUC</th>\n",
       "      <th id=\"T_d8485_level0_col3\" class=\"col_heading level0 col3\" >Recall</th>\n",
       "      <th id=\"T_d8485_level0_col4\" class=\"col_heading level0 col4\" >Prec.</th>\n",
       "      <th id=\"T_d8485_level0_col5\" class=\"col_heading level0 col5\" >F1</th>\n",
       "      <th id=\"T_d8485_level0_col6\" class=\"col_heading level0 col6\" >Kappa</th>\n",
       "      <th id=\"T_d8485_level0_col7\" class=\"col_heading level0 col7\" >MCC</th>\n",
       "    </tr>\n",
       "  </thead>\n",
       "  <tbody>\n",
       "    <tr>\n",
       "      <th id=\"T_d8485_level0_row0\" class=\"row_heading level0 row0\" >0</th>\n",
       "      <td id=\"T_d8485_row0_col0\" class=\"data row0 col0\" >Extreme Gradient Boosting</td>\n",
       "      <td id=\"T_d8485_row0_col1\" class=\"data row0 col1\" >0.5720</td>\n",
       "      <td id=\"T_d8485_row0_col2\" class=\"data row0 col2\" >0.8388</td>\n",
       "      <td id=\"T_d8485_row0_col3\" class=\"data row0 col3\" >0.5720</td>\n",
       "      <td id=\"T_d8485_row0_col4\" class=\"data row0 col4\" >0.7198</td>\n",
       "      <td id=\"T_d8485_row0_col5\" class=\"data row0 col5\" >0.4855</td>\n",
       "      <td id=\"T_d8485_row0_col6\" class=\"data row0 col6\" >0.1440</td>\n",
       "      <td id=\"T_d8485_row0_col7\" class=\"data row0 col7\" >0.2516</td>\n",
       "    </tr>\n",
       "  </tbody>\n",
       "</table>\n"
      ],
      "text/plain": [
       "<pandas.io.formats.style.Styler at 0x7a7ee2e75850>"
      ]
     },
     "metadata": {},
     "output_type": "display_data"
    },
    {
     "data": {
      "text/html": [
       "<style type=\"text/css\">\n",
       "</style>\n",
       "<table id=\"T_6c84e\">\n",
       "  <thead>\n",
       "    <tr>\n",
       "      <th class=\"blank level0\" >&nbsp;</th>\n",
       "      <th id=\"T_6c84e_level0_col0\" class=\"col_heading level0 col0\" >Model</th>\n",
       "      <th id=\"T_6c84e_level0_col1\" class=\"col_heading level0 col1\" >Accuracy</th>\n",
       "      <th id=\"T_6c84e_level0_col2\" class=\"col_heading level0 col2\" >AUC</th>\n",
       "      <th id=\"T_6c84e_level0_col3\" class=\"col_heading level0 col3\" >Recall</th>\n",
       "      <th id=\"T_6c84e_level0_col4\" class=\"col_heading level0 col4\" >Prec.</th>\n",
       "      <th id=\"T_6c84e_level0_col5\" class=\"col_heading level0 col5\" >F1</th>\n",
       "      <th id=\"T_6c84e_level0_col6\" class=\"col_heading level0 col6\" >Kappa</th>\n",
       "      <th id=\"T_6c84e_level0_col7\" class=\"col_heading level0 col7\" >MCC</th>\n",
       "    </tr>\n",
       "  </thead>\n",
       "  <tbody>\n",
       "    <tr>\n",
       "      <th id=\"T_6c84e_level0_row0\" class=\"row_heading level0 row0\" >0</th>\n",
       "      <td id=\"T_6c84e_row0_col0\" class=\"data row0 col0\" >Gradient Boosting Classifier</td>\n",
       "      <td id=\"T_6c84e_row0_col1\" class=\"data row0 col1\" >0.5490</td>\n",
       "      <td id=\"T_6c84e_row0_col2\" class=\"data row0 col2\" >0.8134</td>\n",
       "      <td id=\"T_6c84e_row0_col3\" class=\"data row0 col3\" >0.5490</td>\n",
       "      <td id=\"T_6c84e_row0_col4\" class=\"data row0 col4\" >0.7206</td>\n",
       "      <td id=\"T_6c84e_row0_col5\" class=\"data row0 col5\" >0.4401</td>\n",
       "      <td id=\"T_6c84e_row0_col6\" class=\"data row0 col6\" >0.0980</td>\n",
       "      <td id=\"T_6c84e_row0_col7\" class=\"data row0 col7\" >0.2080</td>\n",
       "    </tr>\n",
       "  </tbody>\n",
       "</table>\n"
      ],
      "text/plain": [
       "<pandas.io.formats.style.Styler at 0x7a7ef477a2d0>"
      ]
     },
     "metadata": {},
     "output_type": "display_data"
    }
   ],
   "source": [
    "# Predict on test data\n",
    "test_results1 = predict_model(best_models[0], data=test_data)\n",
    "test_results2 = predict_model(best_models[1], data=test_data)\n",
    "test_results3 = predict_model(best_models[2], data=test_data)\n",
    "test_results4 = predict_model(best_models[3], data=test_data)\n",
    "test_results5 = predict_model(best_models[4], data=test_data)"
   ]
  },
  {
   "cell_type": "code",
   "execution_count": 8,
   "id": "6e88f745",
   "metadata": {
    "execution": {
     "iopub.execute_input": "2025-07-22T10:06:31.427973Z",
     "iopub.status.busy": "2025-07-22T10:06:31.427531Z",
     "iopub.status.idle": "2025-07-22T10:06:31.570522Z",
     "shell.execute_reply": "2025-07-22T10:06:31.569618Z"
    },
    "papermill": {
     "duration": 0.15152,
     "end_time": "2025-07-22T10:06:31.571597",
     "exception": false,
     "start_time": "2025-07-22T10:06:31.420077",
     "status": "completed"
    },
    "tags": []
   },
   "outputs": [
    {
     "name": "stdout",
     "output_type": "stream",
     "text": [
      "              precision    recall  f1-score   support\n",
      "\n",
      "    negative       0.92      0.15      0.26       500\n",
      "    positive       0.54      0.99      0.70       500\n",
      "\n",
      "    accuracy                           0.57      1000\n",
      "   macro avg       0.73      0.57      0.48      1000\n",
      "weighted avg       0.73      0.57      0.48      1000\n",
      "\n",
      "              precision    recall  f1-score   support\n",
      "\n",
      "    negative       0.92      0.15      0.25       500\n",
      "    positive       0.54      0.99      0.70       500\n",
      "\n",
      "    accuracy                           0.57      1000\n",
      "   macro avg       0.73      0.57      0.47      1000\n",
      "weighted avg       0.73      0.57      0.47      1000\n",
      "\n",
      "              precision    recall  f1-score   support\n",
      "\n",
      "    negative       0.94      0.17      0.28       500\n",
      "    positive       0.54      0.99      0.70       500\n",
      "\n",
      "    accuracy                           0.58      1000\n",
      "   macro avg       0.74      0.58      0.49      1000\n",
      "weighted avg       0.74      0.58      0.49      1000\n",
      "\n",
      "              precision    recall  f1-score   support\n",
      "\n",
      "    negative       0.90      0.16      0.27       500\n",
      "    positive       0.54      0.98      0.70       500\n",
      "\n",
      "    accuracy                           0.57      1000\n",
      "   macro avg       0.72      0.57      0.49      1000\n",
      "weighted avg       0.72      0.57      0.49      1000\n",
      "\n",
      "              precision    recall  f1-score   support\n",
      "\n",
      "    negative       0.92      0.11      0.19       500\n",
      "    positive       0.53      0.99      0.69       500\n",
      "\n",
      "    accuracy                           0.55      1000\n",
      "   macro avg       0.72      0.55      0.44      1000\n",
      "weighted avg       0.72      0.55      0.44      1000\n",
      "\n"
     ]
    }
   ],
   "source": [
    "# Classfication Report\n",
    "print(classification_report(test_results1['sentiment'], test_results1['prediction_label']))\n",
    "print(classification_report(test_results2['sentiment'], test_results2['prediction_label']))\n",
    "print(classification_report(test_results3['sentiment'], test_results3['prediction_label']))\n",
    "print(classification_report(test_results4['sentiment'], test_results4['prediction_label']))\n",
    "print(classification_report(test_results5['sentiment'], test_results5['prediction_label']))"
   ]
  },
  {
   "cell_type": "code",
   "execution_count": 9,
   "id": "1a52b500",
   "metadata": {
    "execution": {
     "iopub.execute_input": "2025-07-22T10:06:31.585864Z",
     "iopub.status.busy": "2025-07-22T10:06:31.585650Z",
     "iopub.status.idle": "2025-07-22T10:06:32.161964Z",
     "shell.execute_reply": "2025-07-22T10:06:32.161011Z"
    },
    "papermill": {
     "duration": 0.584587,
     "end_time": "2025-07-22T10:06:32.163085",
     "exception": true,
     "start_time": "2025-07-22T10:06:31.578498",
     "status": "failed"
    },
    "tags": []
   },
   "outputs": [
    {
     "ename": "TypeError",
     "evalue": "'function' object is not iterable",
     "output_type": "error",
     "traceback": [
      "\u001b[0;31m---------------------------------------------------------------------------\u001b[0m",
      "\u001b[0;31mTypeError\u001b[0m                                 Traceback (most recent call last)",
      "\u001b[0;32m/tmp/ipykernel_19/1809380344.py\u001b[0m in \u001b[0;36m<cell line: 0>\u001b[0;34m()\u001b[0m\n\u001b[0;32m----> 1\u001b[0;31m \u001b[0;32mfor\u001b[0m \u001b[0mi\u001b[0m\u001b[0;34m,\u001b[0m \u001b[0mmodel\u001b[0m \u001b[0;32min\u001b[0m \u001b[0menumerate\u001b[0m\u001b[0;34m(\u001b[0m\u001b[0mmodels\u001b[0m\u001b[0;34m)\u001b[0m\u001b[0;34m:\u001b[0m\u001b[0;34m\u001b[0m\u001b[0;34m\u001b[0m\u001b[0m\n\u001b[0m\u001b[1;32m      2\u001b[0m     \u001b[0msave_model\u001b[0m\u001b[0;34m(\u001b[0m\u001b[0mmodel\u001b[0m\u001b[0;34m,\u001b[0m \u001b[0;34mf\"top_model_{i+1}\"\u001b[0m\u001b[0;34m)\u001b[0m\u001b[0;34m\u001b[0m\u001b[0;34m\u001b[0m\u001b[0m\n",
      "\u001b[0;31mTypeError\u001b[0m: 'function' object is not iterable"
     ]
    }
   ],
   "source": [
    "for i, model in enumerate(models):\n",
    "    save_model(model, f\"top_model_{i+1}\")"
   ]
  }
 ],
 "metadata": {
  "kaggle": {
   "accelerator": "nvidiaTeslaT4",
   "dataSources": [
    {
     "sourceId": 251802696,
     "sourceType": "kernelVersion"
    }
   ],
   "dockerImageVersionId": 31089,
   "isGpuEnabled": true,
   "isInternetEnabled": true,
   "language": "python",
   "sourceType": "notebook"
  },
  "kernelspec": {
   "display_name": "Python 3",
   "language": "python",
   "name": "python3"
  },
  "language_info": {
   "codemirror_mode": {
    "name": "ipython",
    "version": 3
   },
   "file_extension": ".py",
   "mimetype": "text/x-python",
   "name": "python",
   "nbconvert_exporter": "python",
   "pygments_lexer": "ipython3",
   "version": "3.11.13"
  },
  "papermill": {
   "default_parameters": {},
   "duration": 8028.452705,
   "end_time": "2025-07-22T10:06:34.996472",
   "environment_variables": {},
   "exception": true,
   "input_path": "__notebook__.ipynb",
   "output_path": "__notebook__.ipynb",
   "parameters": {},
   "start_time": "2025-07-22T07:52:46.543767",
   "version": "2.6.0"
  },
  "widgets": {
   "application/vnd.jupyter.widget-state+json": {
    "state": {
     "08fde0e3ee38426093686a8bb54bde75": {
      "model_module": "@jupyter-widgets/controls",
      "model_module_version": "2.0.0",
      "model_name": "HTMLStyleModel",
      "state": {
       "_model_module": "@jupyter-widgets/controls",
       "_model_module_version": "2.0.0",
       "_model_name": "HTMLStyleModel",
       "_view_count": null,
       "_view_module": "@jupyter-widgets/base",
       "_view_module_version": "2.0.0",
       "_view_name": "StyleView",
       "background": null,
       "description_width": "",
       "font_size": null,
       "text_color": null
      }
     },
     "23f66ddce7d84141a132da0024cd7726": {
      "model_module": "@jupyter-widgets/base",
      "model_module_version": "2.0.0",
      "model_name": "LayoutModel",
      "state": {
       "_model_module": "@jupyter-widgets/base",
       "_model_module_version": "2.0.0",
       "_model_name": "LayoutModel",
       "_view_count": null,
       "_view_module": "@jupyter-widgets/base",
       "_view_module_version": "2.0.0",
       "_view_name": "LayoutView",
       "align_content": null,
       "align_items": null,
       "align_self": null,
       "border_bottom": null,
       "border_left": null,
       "border_right": null,
       "border_top": null,
       "bottom": null,
       "display": null,
       "flex": null,
       "flex_flow": null,
       "grid_area": null,
       "grid_auto_columns": null,
       "grid_auto_flow": null,
       "grid_auto_rows": null,
       "grid_column": null,
       "grid_gap": null,
       "grid_row": null,
       "grid_template_areas": null,
       "grid_template_columns": null,
       "grid_template_rows": null,
       "height": null,
       "justify_content": null,
       "justify_items": null,
       "left": null,
       "margin": null,
       "max_height": null,
       "max_width": null,
       "min_height": null,
       "min_width": null,
       "object_fit": null,
       "object_position": null,
       "order": null,
       "overflow": null,
       "padding": null,
       "right": null,
       "top": null,
       "visibility": null,
       "width": null
      }
     },
     "2683848dd8984caa88aa2e19e569b706": {
      "model_module": "@jupyter-widgets/controls",
      "model_module_version": "2.0.0",
      "model_name": "HTMLStyleModel",
      "state": {
       "_model_module": "@jupyter-widgets/controls",
       "_model_module_version": "2.0.0",
       "_model_name": "HTMLStyleModel",
       "_view_count": null,
       "_view_module": "@jupyter-widgets/base",
       "_view_module_version": "2.0.0",
       "_view_name": "StyleView",
       "background": null,
       "description_width": "",
       "font_size": null,
       "text_color": null
      }
     },
     "3c3cd78ec68a4e939de44f2dc808dc4d": {
      "model_module": "@jupyter-widgets/controls",
      "model_module_version": "2.0.0",
      "model_name": "ProgressStyleModel",
      "state": {
       "_model_module": "@jupyter-widgets/controls",
       "_model_module_version": "2.0.0",
       "_model_name": "ProgressStyleModel",
       "_view_count": null,
       "_view_module": "@jupyter-widgets/base",
       "_view_module_version": "2.0.0",
       "_view_name": "StyleView",
       "bar_color": null,
       "description_width": ""
      }
     },
     "70a92130133c4dc9b2108783e798a025": {
      "model_module": "@jupyter-widgets/base",
      "model_module_version": "2.0.0",
      "model_name": "LayoutModel",
      "state": {
       "_model_module": "@jupyter-widgets/base",
       "_model_module_version": "2.0.0",
       "_model_name": "LayoutModel",
       "_view_count": null,
       "_view_module": "@jupyter-widgets/base",
       "_view_module_version": "2.0.0",
       "_view_name": "LayoutView",
       "align_content": null,
       "align_items": null,
       "align_self": null,
       "border_bottom": null,
       "border_left": null,
       "border_right": null,
       "border_top": null,
       "bottom": null,
       "display": null,
       "flex": null,
       "flex_flow": null,
       "grid_area": null,
       "grid_auto_columns": null,
       "grid_auto_flow": null,
       "grid_auto_rows": null,
       "grid_column": null,
       "grid_gap": null,
       "grid_row": null,
       "grid_template_areas": null,
       "grid_template_columns": null,
       "grid_template_rows": null,
       "height": null,
       "justify_content": null,
       "justify_items": null,
       "left": null,
       "margin": null,
       "max_height": null,
       "max_width": null,
       "min_height": null,
       "min_width": null,
       "object_fit": null,
       "object_position": null,
       "order": null,
       "overflow": null,
       "padding": null,
       "right": null,
       "top": null,
       "visibility": null,
       "width": null
      }
     },
     "8af49239b40f41db8142a3c53f8e6490": {
      "model_module": "@jupyter-widgets/controls",
      "model_module_version": "2.0.0",
      "model_name": "HTMLModel",
      "state": {
       "_dom_classes": [],
       "_model_module": "@jupyter-widgets/controls",
       "_model_module_version": "2.0.0",
       "_model_name": "HTMLModel",
       "_view_count": null,
       "_view_module": "@jupyter-widgets/controls",
       "_view_module_version": "2.0.0",
       "_view_name": "HTMLView",
       "description": "",
       "description_allow_html": false,
       "layout": "IPY_MODEL_23f66ddce7d84141a132da0024cd7726",
       "placeholder": "​",
       "style": "IPY_MODEL_2683848dd8984caa88aa2e19e569b706",
       "tabbable": null,
       "tooltip": null,
       "value": "Processing: 100%"
      }
     },
     "a13cabbbbb7740f1a5dc16abd17d0a71": {
      "model_module": "@jupyter-widgets/base",
      "model_module_version": "2.0.0",
      "model_name": "LayoutModel",
      "state": {
       "_model_module": "@jupyter-widgets/base",
       "_model_module_version": "2.0.0",
       "_model_name": "LayoutModel",
       "_view_count": null,
       "_view_module": "@jupyter-widgets/base",
       "_view_module_version": "2.0.0",
       "_view_name": "LayoutView",
       "align_content": null,
       "align_items": null,
       "align_self": null,
       "border_bottom": null,
       "border_left": null,
       "border_right": null,
       "border_top": null,
       "bottom": null,
       "display": null,
       "flex": null,
       "flex_flow": null,
       "grid_area": null,
       "grid_auto_columns": null,
       "grid_auto_flow": null,
       "grid_auto_rows": null,
       "grid_column": null,
       "grid_gap": null,
       "grid_row": null,
       "grid_template_areas": null,
       "grid_template_columns": null,
       "grid_template_rows": null,
       "height": null,
       "justify_content": null,
       "justify_items": null,
       "left": null,
       "margin": null,
       "max_height": null,
       "max_width": null,
       "min_height": null,
       "min_width": null,
       "object_fit": null,
       "object_position": null,
       "order": null,
       "overflow": null,
       "padding": null,
       "right": null,
       "top": null,
       "visibility": null,
       "width": null
      }
     },
     "c6b0d18ce3064bc98f145ddc5c27d8f5": {
      "model_module": "@jupyter-widgets/controls",
      "model_module_version": "2.0.0",
      "model_name": "FloatProgressModel",
      "state": {
       "_dom_classes": [],
       "_model_module": "@jupyter-widgets/controls",
       "_model_module_version": "2.0.0",
       "_model_name": "FloatProgressModel",
       "_view_count": null,
       "_view_module": "@jupyter-widgets/controls",
       "_view_module_version": "2.0.0",
       "_view_name": "ProgressView",
       "bar_style": "",
       "description": "",
       "description_allow_html": false,
       "layout": "IPY_MODEL_a13cabbbbb7740f1a5dc16abd17d0a71",
       "max": 73.0,
       "min": 0.0,
       "orientation": "horizontal",
       "style": "IPY_MODEL_3c3cd78ec68a4e939de44f2dc808dc4d",
       "tabbable": null,
       "tooltip": null,
       "value": 73.0
      }
     },
     "c7ca796e6506481a80d063e5514ebdc8": {
      "model_module": "@jupyter-widgets/controls",
      "model_module_version": "2.0.0",
      "model_name": "HTMLModel",
      "state": {
       "_dom_classes": [],
       "_model_module": "@jupyter-widgets/controls",
       "_model_module_version": "2.0.0",
       "_model_name": "HTMLModel",
       "_view_count": null,
       "_view_module": "@jupyter-widgets/controls",
       "_view_module_version": "2.0.0",
       "_view_name": "HTMLView",
       "description": "",
       "description_allow_html": false,
       "layout": "IPY_MODEL_70a92130133c4dc9b2108783e798a025",
       "placeholder": "​",
       "style": "IPY_MODEL_08fde0e3ee38426093686a8bb54bde75",
       "tabbable": null,
       "tooltip": null,
       "value": " 73/73 [2:00:01&lt;00:00, 53.89s/it]"
      }
     },
     "d588382fb6c84d1991c7ea1eed9999e3": {
      "model_module": "@jupyter-widgets/base",
      "model_module_version": "2.0.0",
      "model_name": "LayoutModel",
      "state": {
       "_model_module": "@jupyter-widgets/base",
       "_model_module_version": "2.0.0",
       "_model_name": "LayoutModel",
       "_view_count": null,
       "_view_module": "@jupyter-widgets/base",
       "_view_module_version": "2.0.0",
       "_view_name": "LayoutView",
       "align_content": null,
       "align_items": null,
       "align_self": null,
       "border_bottom": null,
       "border_left": null,
       "border_right": null,
       "border_top": null,
       "bottom": null,
       "display": null,
       "flex": null,
       "flex_flow": null,
       "grid_area": null,
       "grid_auto_columns": null,
       "grid_auto_flow": null,
       "grid_auto_rows": null,
       "grid_column": null,
       "grid_gap": null,
       "grid_row": null,
       "grid_template_areas": null,
       "grid_template_columns": null,
       "grid_template_rows": null,
       "height": null,
       "justify_content": null,
       "justify_items": null,
       "left": null,
       "margin": null,
       "max_height": null,
       "max_width": null,
       "min_height": null,
       "min_width": null,
       "object_fit": null,
       "object_position": null,
       "order": null,
       "overflow": null,
       "padding": null,
       "right": null,
       "top": null,
       "visibility": "hidden",
       "width": null
      }
     },
     "e5d80983ffae4e889ef61ab2129f11d2": {
      "model_module": "@jupyter-widgets/controls",
      "model_module_version": "2.0.0",
      "model_name": "HBoxModel",
      "state": {
       "_dom_classes": [],
       "_model_module": "@jupyter-widgets/controls",
       "_model_module_version": "2.0.0",
       "_model_name": "HBoxModel",
       "_view_count": null,
       "_view_module": "@jupyter-widgets/controls",
       "_view_module_version": "2.0.0",
       "_view_name": "HBoxView",
       "box_style": "",
       "children": [
        "IPY_MODEL_8af49239b40f41db8142a3c53f8e6490",
        "IPY_MODEL_c6b0d18ce3064bc98f145ddc5c27d8f5",
        "IPY_MODEL_c7ca796e6506481a80d063e5514ebdc8"
       ],
       "layout": "IPY_MODEL_d588382fb6c84d1991c7ea1eed9999e3",
       "tabbable": null,
       "tooltip": null
      }
     }
    },
    "version_major": 2,
    "version_minor": 0
   }
  }
 },
 "nbformat": 4,
 "nbformat_minor": 5
}
